{
 "cells": [
  {
   "cell_type": "markdown",
   "metadata": {},
   "source": [
    "# Tensorflow Fundamental Computational Graph\n",
    "\n",
    "Tensorflow Core layer. Building computational graphs!"
   ]
  },
  {
   "cell_type": "code",
   "execution_count": 31,
   "metadata": {},
   "outputs": [
    {
     "name": "stdout",
     "output_type": "stream",
     "text": [
      "(<tf.Tensor 'Const_2:0' shape=() dtype=float32>, <tf.Tensor 'Const_3:0' shape=() dtype=float32>)\n"
     ]
    }
   ],
   "source": [
    "import tensorflow as tf\n",
    "\n",
    "node1 = tf.constant(3.0, dtype=tf.float32) \n",
    "node2 = tf.constant(4.0) #dtype float32 is a default \n",
    "print(node1, node2)"
   ]
  },
  {
   "cell_type": "markdown",
   "metadata": {},
   "source": [
    "In Tensorflow Core, nodes are operations or variables. They take in some tensors, and output tensors.\n",
    "\n",
    "Nodes do not return a value, and are not evaluated until specifically run inside a Session."
   ]
  },
  {
   "cell_type": "code",
   "execution_count": 17,
   "metadata": {},
   "outputs": [
    {
     "name": "stdout",
     "output_type": "stream",
     "text": [
      "[3.0, 4.0]\n"
     ]
    }
   ],
   "source": [
    "sess = tf.Session()\n",
    "print( sess.run([node1, node2]))"
   ]
  },
  {
   "cell_type": "markdown",
   "metadata": {},
   "source": [
    "We can perform operations like so:"
   ]
  },
  {
   "cell_type": "code",
   "execution_count": 4,
   "metadata": {},
   "outputs": [
    {
     "name": "stdout",
     "output_type": "stream",
     "text": [
      "7.0\n"
     ]
    }
   ],
   "source": [
    "node3 = tf.add(node1, node2)\n",
    "print sess.run(node3)"
   ]
  },
  {
   "cell_type": "markdown",
   "metadata": {},
   "source": [
    "Instead of one data type for variables, Tensorflow breaks things into two types:  \n",
    "\n",
    "1. `placeholder` - a promise to provide a value later. Use to feed training data into the graph. \n",
    "2. `variable` - must be initialized with some value. Use for trainable variables like `W` weights"
   ]
  },
  {
   "cell_type": "code",
   "execution_count": 5,
   "metadata": {},
   "outputs": [
    {
     "name": "stdout",
     "output_type": "stream",
     "text": [
      "7.5\n",
      "7.5\n",
      "[ 6.  4.]\n"
     ]
    }
   ],
   "source": [
    "# creating the tiniest graph\n",
    "a = tf.placeholder(tf.float32)\n",
    "b = tf.placeholder(tf.float32)\n",
    "adder_node = tf.add(a,b)\n",
    "\n",
    "print(sess.run(adder_node, feed_dict = {a:3, b:4.5})) \n",
    "print(sess.run(adder_node, {a:3, b:4.5}))\n",
    "print(sess.run(adder_node, {a:[2,1], b:[4,3]})) # arrays are tensors too"
   ]
  },
  {
   "cell_type": "markdown",
   "metadata": {},
   "source": [
    "Going back to our `WX + b` linear model, we would use `variable` for `W` and `b`, and `placeholder` for the features `X`"
   ]
  },
  {
   "cell_type": "code",
   "execution_count": 28,
   "metadata": {},
   "outputs": [
    {
     "name": "stdout",
     "output_type": "stream",
     "text": [
      "None\n"
     ]
    }
   ],
   "source": [
    "# initialize the graph \n",
    "W = tf.Variable([0.3], dtype=tf.float32)\n",
    "b = tf.Variable([-.3], dtype=tf.float32)\n",
    "x = tf.placeholder(tf.float32)\n",
    "linear_model = W * x + b\n",
    "\n",
    "# must run to initialize all the variables in this graph \n",
    "# the global_variables_initializer() must be run within the context of a session \n",
    "init = tf.global_variables_initializer() \n",
    "print(sess.run(init))"
   ]
  },
  {
   "cell_type": "code",
   "execution_count": 25,
   "metadata": {},
   "outputs": [
    {
     "name": "stdout",
     "output_type": "stream",
     "text": [
      "[ 0.69999999  1.70000005  2.70000005  3.70000005]\n"
     ]
    }
   ],
   "source": [
    "# run the computational graph\n",
    "print(sess.run(linear_model, {x:[1,2,3,4]}))"
   ]
  },
  {
   "cell_type": "markdown",
   "metadata": {},
   "source": [
    "You can reassign a values in a `variable` which you'll need to do every time you update any parameters."
   ]
  },
  {
   "cell_type": "code",
   "execution_count": 30,
   "metadata": {},
   "outputs": [
    {
     "name": "stdout",
     "output_type": "stream",
     "text": [
      "[ 0.69999999  1.70000005  2.70000005  3.70000005]\n"
     ]
    }
   ],
   "source": [
    "updateW = tf.assign(W, [1.0])\n",
    "print(sess.run(updateW * x + b, {x:[1,2,3,4]}))"
   ]
  },
  {
   "cell_type": "markdown",
   "metadata": {},
   "source": [
    "## Compare and Contrast: np and tf Computational Graphs\n",
    "\n",
    "Go through this code for a computational graph in numpy and recreate it in TensorFlow. Flip back to the graph itself and let's work out the math first.\n",
    "\n",
    "Credit to CS231n Winter 2017 Lecture 8 for the exercise"
   ]
  },
  {
   "cell_type": "markdown",
   "metadata": {},
   "source": [
    "### Numpy Version"
   ]
  },
  {
   "cell_type": "code",
   "execution_count": null,
   "metadata": {
    "collapsed": true
   },
   "outputs": [],
   "source": [
    "import numpy as np\n",
    "np.random.seed(0)\n",
    "\n",
    "# data dimensions N*D\n",
    "N, D = 3, 4 \n",
    "\n",
    "# input features \n",
    "x = np.random.randn(N, D)\n",
    "y = np.random.randn(N, D)\n",
    "z = np.random.randn(N, D)\n",
    "\n",
    "# computational nodes\n",
    "a = x * y\n",
    "b = a + z\n",
    "c = np.sum(b)\n",
    "\n",
    "# all the gradients\n",
    "grad_c = 1.0\n",
    "grad_b = grad_c * np.ones((N,D))\n",
    "grad_a = grad_b.copy()\n",
    "grad_z = grad_b.copy()\n",
    "grad_x = grad_a * y \n",
    "grad_y = grad_a * x"
   ]
  },
  {
   "cell_type": "markdown",
   "metadata": {},
   "source": [
    "### TensorFlow Version\n"
   ]
  },
  {
   "cell_type": "code",
   "execution_count": 14,
   "metadata": {},
   "outputs": [
    {
     "name": "stdout",
     "output_type": "stream",
     "text": [
      "c node value 6.71701\n",
      "x gradient value [[ 0.76103771  0.12167501  0.44386324  0.33367434]\n",
      " [ 1.49407911 -0.20515826  0.3130677  -0.85409576]\n",
      " [-2.55298972  0.65361857  0.86443621 -0.74216503]]\n",
      "y gradient value [[ 1.76405239  0.40015721  0.97873801  2.24089313]\n",
      " [ 1.867558   -0.97727787  0.95008844 -0.1513572 ]\n",
      " [-0.10321885  0.41059852  0.14404356  1.45427346]]\n",
      "z gradient value [[ 1.  1.  1.  1.]\n",
      " [ 1.  1.  1.  1.]\n",
      " [ 1.  1.  1.  1.]]\n"
     ]
    }
   ],
   "source": [
    "import numpy as np\n",
    "import tensorflow as tf\n",
    "\n",
    "np.random.seed(0)\n",
    "\n",
    "# data dimensions N*D\n",
    "N, D = 3, 4 \n",
    "\n",
    "# placeholders for data feeds\n",
    "x = tf.placeholder(tf.float32)\n",
    "y = tf.placeholder(tf.float32)\n",
    "z = tf.placeholder(tf.float32)\n",
    "\n",
    "# nodes \n",
    "a = x * y\n",
    "b = a + z\n",
    "c = tf.reduce_sum(b)\n",
    "\n",
    "# gradients, so much easier!\n",
    "grad_x, grad_y, grad_z = tf.gradients(c, [x,y,z])\n",
    "\n",
    "\n",
    "# run the computational graph\n",
    "with tf.Session() as sess: \n",
    "  \n",
    "  # creating dummy training data\n",
    "  values = {\n",
    "    x: np.random.randn(N, D),\n",
    "    y: np.random.randn(N, D),\n",
    "    z: np.random.randn(N, D),\n",
    "  }\n",
    "  \n",
    "  # running the graph! \n",
    "  out = sess.run([c, grad_x, grad_y, grad_z], feed_dict=values)\n",
    "  c_val, grad_x_val, grad_y_val, grad_z_val = out\n",
    "  \n",
    "  print \"c node value\", c_val\n",
    "  print \"x gradient value\", grad_x_val\n",
    "  print \"y gradient value\", grad_y_val\n",
    "  print \"z gradient value\", grad_z_val"
   ]
  },
  {
   "cell_type": "markdown",
   "metadata": {},
   "source": [
    "## Questions\n",
    "\n",
    "1. What's going on in tf.gradients? \n",
    "2. How many times does this graph compute? "
   ]
  }
 ],
 "metadata": {
  "kernelspec": {
   "display_name": "Python 3",
   "language": "python",
   "name": "python3"
  },
  "language_info": {
   "codemirror_mode": {
    "name": "ipython",
    "version": 3
   },
   "file_extension": ".py",
   "mimetype": "text/x-python",
   "name": "python",
   "nbconvert_exporter": "python",
   "pygments_lexer": "ipython3",
   "version": "3.6.1"
  }
 },
 "nbformat": 4,
 "nbformat_minor": 2
}
