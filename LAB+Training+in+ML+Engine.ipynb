{
 "cells": [
  {
   "cell_type": "markdown",
   "metadata": {
    "collapsed": true
   },
   "source": [
    "# Training a CNN model with the CIFAR-10 dataset in ML Engine\n",
    "\n",
    "The trainer package source is inside the `cifar10` directory. It was based from [Tensorflow's CNN tutorial](https://github.com/tensorflow/models/tree/master/tutorials/image/cifar10) and one of the [Datalab image classification example](https://github.com/googledatalab/pydatalab/tree/master/solutionbox/image_classification/mltoolbox/image/classification)."
   ]
  },
  {
   "cell_type": "markdown",
   "metadata": {},
   "source": [
    "## Enable the ML Engine API\n",
    "\n",
    "We need to enable the ML Engine API since it isn't by default.\n",
    "\n",
    "1. Head back to the [web console](https://console.cloud.google.com).\n",
    "2. Search for \"API Manager\" using the bar on the top middle of the page.\n",
    "3. Select __Library__ from the sidebar.\n",
    "4. Search for \"ML Engine\" and select __Google Cloud Machine Learning Engine__.\n",
    "5. Click __ENABLE__"
   ]
  },
  {
   "cell_type": "markdown",
   "metadata": {},
   "source": [
    "## Build the trainer package"
   ]
  },
  {
   "cell_type": "code",
   "execution_count": null,
   "metadata": {
    "collapsed": true,
    "scrolled": true
   },
   "outputs": [],
   "source": [
    "%%bash\n",
    "cd cifar10\n",
    "\n",
    "# Clean old builds\n",
    "rm -rf build dist\n",
    "\n",
    "# Build wheel distribution\n",
    "python setup.py bdist_wheel --universal\n",
    "\n",
    "# Check the built package\n",
    "ls -al dist"
   ]
  },
  {
   "cell_type": "markdown",
   "metadata": {},
   "source": [
    "## Submit the training job to ML Engine"
   ]
  },
  {
   "cell_type": "code",
   "execution_count": null,
   "metadata": {
    "collapsed": true
   },
   "outputs": [],
   "source": [
    "%%bash\n",
    "cd cifar10\n",
    "\n",
    "# Set some variables\n",
    "JOB_NAME=cifar10_train_$(date +%s)\n",
    "BUCKET_NAME=dost_deeplearning_cifar10 # Change this to your own!\n",
    "TRAINING_PACKAGE_PATH=dist/trainer-0.0.0-py2.py3-none-any.whl\n",
    "\n",
    "# Submit the job through the gcloud tool\n",
    "gcloud ml-engine jobs submit training \\\n",
    "  $JOB_NAME \\\n",
    "  --region us-east1 \\\n",
    "  --job-dir gs://$BUCKET_NAME/$JOB_NAME \\\n",
    "  --packages $TRAINING_PACKAGE_PATH \\\n",
    "  --module-name trainer.task \\\n",
    "  --config config.yaml"
   ]
  },
  {
   "cell_type": "markdown",
   "metadata": {},
   "source": [
    "It will take a few minutes for ML Engine to provision a training instance for our job. While that's happening, let's talk about pricing!"
   ]
  },
  {
   "cell_type": "markdown",
   "metadata": {},
   "source": [
    "## TensorBoard"
   ]
  },
  {
   "cell_type": "code",
   "execution_count": null,
   "metadata": {
    "collapsed": true
   },
   "outputs": [],
   "source": [
    "import os.path\n",
    "from google.datalab.ml import TensorBoard\n",
    "\n",
    "bucket_path = 'gs://dost_deeplearning_cifar10'  # Change this to your own bucket\n",
    "job_name = 'cifar10_train_1499874404'           # Change this to your own job name\n",
    "train_dir = os.path.join(bucket_path, job_name, 'train')\n",
    "\n",
    "TensorBoard.start(train_dir)"
   ]
  },
  {
   "cell_type": "markdown",
   "metadata": {},
   "source": [
    "## Now what?\n",
    "\n",
    "Training will finish in around 8-9 hours. __Make sure your training job is running properly before going!__\n",
    "\n",
    "We will deploy our trained model tomorrow and integrate it with a web app to run predictions on arbitrary images."
   ]
  }
 ],
 "metadata": {
  "kernelspec": {
   "display_name": "Python 2",
   "language": "python",
   "name": "python2"
  },
  "language_info": {
   "codemirror_mode": {
    "name": "ipython",
    "version": 2
   },
   "file_extension": ".py",
   "mimetype": "text/x-python",
   "name": "python",
   "nbconvert_exporter": "python",
   "pygments_lexer": "ipython2",
   "version": "2.7.13"
  }
 },
 "nbformat": 4,
 "nbformat_minor": 2
}
