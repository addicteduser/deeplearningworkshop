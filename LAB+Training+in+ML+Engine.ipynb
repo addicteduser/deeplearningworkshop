{
 "cells": [
  {
   "cell_type": "markdown",
   "metadata": {
    "collapsed": true
   },
   "source": [
    "# Training a CNN model with the CIFAR-10 dataset in ML Engine"
   ]
  },
  {
   "cell_type": "markdown",
   "metadata": {},
   "source": [
    "## Build the trainer package"
   ]
  },
  {
   "cell_type": "code",
   "execution_count": 1,
   "metadata": {},
   "outputs": [
    {
     "name": "stdout",
     "output_type": "stream",
     "text": [
      "from setuptools import setup\r\n",
      "\r\n",
      "setup(\r\n",
      "  name='trainer',\r\n",
      "  version='0.0.0',\r\n",
      "  packages=['trainer'],\r\n",
      "  include_package_data=True,\r\n",
      "  install_requires=['tensorflow'],\r\n",
      ")\r\n"
     ]
    }
   ],
   "source": [
    "!cat cifar10/setup.py"
   ]
  },
  {
   "cell_type": "code",
   "execution_count": 2,
   "metadata": {
    "scrolled": true
   },
   "outputs": [
    {
     "name": "stdout",
     "output_type": "stream",
     "text": [
      "running bdist_wheel\n",
      "running build\n",
      "running build_py\n",
      "creating build\n",
      "creating build/lib\n",
      "creating build/lib/trainer\n",
      "copying trainer/__init__.py -> build/lib/trainer\n",
      "copying trainer/eval.py -> build/lib/trainer\n",
      "copying trainer/input.py -> build/lib/trainer\n",
      "copying trainer/model.py -> build/lib/trainer\n",
      "copying trainer/task.py -> build/lib/trainer\n",
      "running egg_info\n",
      "writing requirements to trainer.egg-info/requires.txt\n",
      "writing trainer.egg-info/PKG-INFO\n",
      "writing top-level names to trainer.egg-info/top_level.txt\n",
      "writing dependency_links to trainer.egg-info/dependency_links.txt\n",
      "reading manifest file 'trainer.egg-info/SOURCES.txt'\n",
      "writing manifest file 'trainer.egg-info/SOURCES.txt'\n",
      "installing to build/bdist.macosx-10.11-x86_64/wheel\n",
      "running install\n",
      "running install_lib\n",
      "creating build/bdist.macosx-10.11-x86_64\n",
      "creating build/bdist.macosx-10.11-x86_64/wheel\n",
      "creating build/bdist.macosx-10.11-x86_64/wheel/trainer\n",
      "copying build/lib/trainer/__init__.py -> build/bdist.macosx-10.11-x86_64/wheel/trainer\n",
      "copying build/lib/trainer/eval.py -> build/bdist.macosx-10.11-x86_64/wheel/trainer\n",
      "copying build/lib/trainer/input.py -> build/bdist.macosx-10.11-x86_64/wheel/trainer\n",
      "copying build/lib/trainer/model.py -> build/bdist.macosx-10.11-x86_64/wheel/trainer\n",
      "copying build/lib/trainer/task.py -> build/bdist.macosx-10.11-x86_64/wheel/trainer\n",
      "running install_egg_info\n",
      "Copying trainer.egg-info to build/bdist.macosx-10.11-x86_64/wheel/trainer-0.0.0-py2.7.egg-info\n",
      "running install_scripts\n",
      "creating build/bdist.macosx-10.11-x86_64/wheel/trainer-0.0.0.dist-info/WHEEL\n",
      "total 32\n",
      "drwxr-xr-x   3 marksteve  staff    102 Jul 12 22:56 .\n",
      "drwxr-xr-x  12 marksteve  staff    408 Jul 12 22:56 ..\n",
      "-rw-r--r--   1 marksteve  staff  15065 Jul 12 22:56 trainer-0.0.0-py2.py3-none-any.whl\n"
     ]
    }
   ],
   "source": [
    "%%bash\n",
    "cd cifar10\n",
    "\n",
    "# Clean old builds\n",
    "rm -rf build dist\n",
    "\n",
    "# Build wheel distribution\n",
    "python setup.py bdist_wheel --universal\n",
    "\n",
    "# Check the built package\n",
    "ls -al dist"
   ]
  },
  {
   "cell_type": "markdown",
   "metadata": {},
   "source": [
    "## Submit the training job to ML Engine"
   ]
  },
  {
   "cell_type": "code",
   "execution_count": 3,
   "metadata": {},
   "outputs": [
    {
     "name": "stdout",
     "output_type": "stream",
     "text": [
      "jobId: cifar10_train_1499871386\n",
      "state: QUEUED\n"
     ]
    },
    {
     "name": "stderr",
     "output_type": "stream",
     "text": [
      "Job [cifar10_train_1499871386] submitted successfully.\n",
      "Your job is still active. You may view the status of your job with the command\n",
      "\n",
      "  $ gcloud ml-engine jobs describe cifar10_train_1499871386\n",
      "\n",
      "or continue streaming the logs with the command\n",
      "\n",
      "  $ gcloud ml-engine jobs stream-logs cifar10_train_1499871386\n"
     ]
    }
   ],
   "source": [
    "%%bash\n",
    "cd cifar10\n",
    "\n",
    "# Set some variables\n",
    "JOB_NAME=cifar10_train_$(date +%s)\n",
    "BUCKET_NAME=dost_deeplearning_cifar10 # Change this to your own!\n",
    "TRAINING_PACKAGE_PATH=dist/trainer-0.0.0-py2.py3-none-any.whl\n",
    "\n",
    "# Submit the job through the gcloud tool\n",
    "gcloud ml-engine jobs submit training \\\n",
    "  $JOB_NAME \\\n",
    "  --region us-east1 \\\n",
    "  --job-dir gs://$BUCKET_NAME/$JOB_NAME \\\n",
    "  --packages $TRAINING_PACKAGE_PATH \\\n",
    "  --module-name trainer.task \\\n",
    "  --config config.yaml"
   ]
  },
  {
   "cell_type": "markdown",
   "metadata": {},
   "source": [
    "### What machine type did we use?"
   ]
  },
  {
   "cell_type": "code",
   "execution_count": 4,
   "metadata": {},
   "outputs": [
    {
     "name": "stdout",
     "output_type": "stream",
     "text": [
      "trainingInput:\r\n",
      "  scaleTier: CUSTOM\r\n",
      "  masterType: complex_model_s\r\n"
     ]
    }
   ],
   "source": [
    "!cat cifar10/config.yaml"
   ]
  },
  {
   "cell_type": "markdown",
   "metadata": {},
   "source": [
    "## Now what?\n",
    "\n",
    "Training will finish in around 8-9 hours. __Make sure your training job is running properly!__\n",
    "\n",
    "We will deploy our trained model tomorrow and integrate it with a web app to run predictions on arbitrary images."
   ]
  }
 ],
 "metadata": {
  "kernelspec": {
   "display_name": "Python 3",
   "language": "python",
   "name": "python3"
  },
  "language_info": {
   "codemirror_mode": {
    "name": "ipython",
    "version": 3
   },
   "file_extension": ".py",
   "mimetype": "text/x-python",
   "name": "python",
   "nbconvert_exporter": "python",
   "pygments_lexer": "ipython3",
   "version": "3.6.1"
  }
 },
 "nbformat": 4,
 "nbformat_minor": 2
}
